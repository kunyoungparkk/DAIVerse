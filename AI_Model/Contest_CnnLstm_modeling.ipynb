{
  "cells": [
    {
      "cell_type": "code",
      "execution_count": null,
      "metadata": {
        "id": "9BFVmAd6cAmY"
      },
      "outputs": [],
      "source": [
        "import pandas as pd\n",
        "import tensorflow as tf\n",
        "import keras\n",
        "from tensorflow.keras import preprocessing\n",
        "from keras.models import Model, load_model\n",
        "from keras.layers import Input, Embedding, Dense, Dropout, Conv1D, GlobalMaxPool1D, concatenate\n",
        "from tqdm import tqdm\n",
        "import numpy as np\n",
        "from gensim.models.word2vec import Word2Vec\n",
        "from keras.initializers import Constant\n",
        "from keras.callbacks import EarlyStopping\n",
        "from keras.callbacks import ModelCheckpoint\n",
        "from keras import Sequential\n",
        "from keras.models import Sequential\n",
        "from keras.layers import Bidirectional, LSTM, Dense, TimeDistributed"
      ]
    },
    {
      "cell_type": "code",
      "execution_count": null,
      "metadata": {
        "colab": {
          "base_uri": "https://localhost:8080/"
        },
        "id": "4N9UO39BcbOY",
        "outputId": "01246fcd-57c6-4d22-8b29-0f31f2b687bd"
      },
      "outputs": [
        {
          "output_type": "stream",
          "name": "stdout",
          "text": [
            "Hit:1 http://archive.ubuntu.com/ubuntu bionic InRelease\n",
            "Ign:2 https://developer.download.nvidia.com/compute/machine-learning/repos/ubuntu1804/x86_64  InRelease\n",
            "Get:3 http://archive.ubuntu.com/ubuntu bionic-updates InRelease [88.7 kB]\n",
            "Hit:4 https://developer.download.nvidia.com/compute/cuda/repos/ubuntu1804/x86_64  InRelease\n",
            "Hit:5 https://developer.download.nvidia.com/compute/machine-learning/repos/ubuntu1804/x86_64  Release\n",
            "Get:6 https://cloud.r-project.org/bin/linux/ubuntu bionic-cran40/ InRelease [3,626 B]\n",
            "Get:7 http://security.ubuntu.com/ubuntu bionic-security InRelease [88.7 kB]\n",
            "Get:8 http://archive.ubuntu.com/ubuntu bionic-backports InRelease [83.3 kB]\n",
            "Hit:9 http://ppa.launchpad.net/c2d4u.team/c2d4u4.0+/ubuntu bionic InRelease\n",
            "Hit:10 http://ppa.launchpad.net/cran/libgit2/ubuntu bionic InRelease\n",
            "Hit:12 http://ppa.launchpad.net/deadsnakes/ppa/ubuntu bionic InRelease\n",
            "Hit:13 http://ppa.launchpad.net/graphics-drivers/ppa/ubuntu bionic InRelease\n",
            "Fetched 264 kB in 2s (108 kB/s)\n",
            "Reading package lists...\n",
            "Reading package lists...\n",
            "Building dependency tree...\n",
            "Reading state information...\n",
            "python-dev is already the newest version (2.7.15~rc1-1).\n",
            "g++ is already the newest version (4:7.4.0-1ubuntu2.3).\n",
            "python3-dev is already the newest version (3.6.7-1~18.04).\n",
            "openjdk-8-jdk is already the newest version (8u342-b07-0ubuntu1~18.04).\n",
            "The following package was automatically installed and is no longer required:\n",
            "  libnvidia-common-460\n",
            "Use 'apt autoremove' to remove it.\n",
            "0 upgraded, 0 newly installed, 0 to remove and 27 not upgraded.\n",
            "Looking in indexes: https://pypi.org/simple, https://us-python.pkg.dev/colab-wheels/public/simple/\n",
            "Requirement already satisfied: JPype1 in /usr/local/lib/python3.7/dist-packages (1.4.0)\n",
            "Requirement already satisfied: typing-extensions in /usr/local/lib/python3.7/dist-packages (from JPype1) (4.1.1)\n",
            "Looking in indexes: https://pypi.org/simple, https://us-python.pkg.dev/colab-wheels/public/simple/\n",
            "Requirement already satisfied: konlpy in /usr/local/lib/python3.7/dist-packages (0.6.0)\n",
            "Requirement already satisfied: JPype1>=0.7.0 in /usr/local/lib/python3.7/dist-packages (from konlpy) (1.4.0)\n",
            "Requirement already satisfied: numpy>=1.6 in /usr/local/lib/python3.7/dist-packages (from konlpy) (1.21.6)\n",
            "Requirement already satisfied: lxml>=4.1.0 in /usr/local/lib/python3.7/dist-packages (from konlpy) (4.9.1)\n",
            "Requirement already satisfied: typing-extensions in /usr/local/lib/python3.7/dist-packages (from JPype1>=0.7.0->konlpy) (4.1.1)\n"
          ]
        }
      ],
      "source": [
        "#konlpy 설치\n",
        "%%bash\n",
        "apt-get update\n",
        "apt-get install g++ openjdk-8-jdk python-dev python3-dev\n",
        "pip3 install JPype1\n",
        "pip3 install konlpy"
      ]
    },
    {
      "cell_type": "code",
      "execution_count": null,
      "metadata": {
        "colab": {
          "base_uri": "https://localhost:8080/"
        },
        "id": "2MmaIYBIcbeC",
        "outputId": "104d0214-8d7c-4466-d049-013e0dd97397"
      },
      "outputs": [
        {
          "output_type": "stream",
          "name": "stdout",
          "text": [
            "env: JAVA_HOME=\"/usr/lib/jvm/java-8-openjdk-amd64\"\n"
          ]
        }
      ],
      "source": [
        "#경로 설정\n",
        "%env JAVA_HOME \"/usr/lib/jvm/java-8-openjdk-amd64\""
      ]
    },
    {
      "cell_type": "code",
      "execution_count": null,
      "metadata": {
        "id": "EvARkU6Pcb2T"
      },
      "outputs": [],
      "source": [
        "from konlpy.tag import Komoran"
      ]
    },
    {
      "cell_type": "code",
      "execution_count": null,
      "metadata": {
        "id": "r3hP1TaYccCT"
      },
      "outputs": [],
      "source": [
        "#하이퍼 파라미터 조정을 위한 keras tuner 설치\n",
        "!pip install -q -U keras-tuner\n",
        "import kerastuner as kt"
      ]
    },
    {
      "cell_type": "code",
      "execution_count": null,
      "metadata": {
        "colab": {
          "base_uri": "https://localhost:8080/"
        },
        "id": "WP4KmSwSccNS",
        "outputId": "b7e23a03-66bd-49f3-f687-6bdec9291a96"
      },
      "outputs": [
        {
          "output_type": "stream",
          "name": "stdout",
          "text": [
            "Drive already mounted at /content/drive; to attempt to forcibly remount, call drive.mount(\"/content/drive\", force_remount=True).\n"
          ]
        }
      ],
      "source": [
        "from google.colab import drive\n",
        "drive.mount('/content/drive')"
      ]
    },
    {
      "cell_type": "code",
      "execution_count": null,
      "metadata": {
        "colab": {
          "base_uri": "https://localhost:8080/"
        },
        "id": "VxpxbRJOccXZ",
        "outputId": "4b97b53f-4782-45de-a28e-67ac8c195e31"
      },
      "outputs": [
        {
          "output_type": "execute_result",
          "data": {
            "text/plain": [
              "81539"
            ]
          },
          "metadata": {},
          "execution_count": 46
        }
      ],
      "source": [
        "#데이터에서 라벨값(정답값) 불러오기\n",
        "train_file='/content/drive/MyDrive/ContestDataAll11.csv'\n",
        "data=pd.read_csv(train_file, encoding='cp949')\n",
        "labels=data['label'].tolist()\n",
        "len(labels)"
      ]
    },
    {
      "cell_type": "code",
      "source": [
        "#데이터에서 라벨값(정답값) 불러오기\n",
        "train_file='/content/drive/MyDrive/ContestDataAll11.csv'\n",
        "data=pd.read_csv(train_file, encoding='cp949')\n",
        "labels=data['label'].tolist()\n",
        "type(labels[0])"
      ],
      "metadata": {
        "colab": {
          "base_uri": "https://localhost:8080/"
        },
        "id": "H166xl8v_RDb",
        "outputId": "8f0c1deb-66bf-49d0-bbe4-bff0eb0a2236"
      },
      "execution_count": null,
      "outputs": [
        {
          "output_type": "execute_result",
          "data": {
            "text/plain": [
              "int"
            ]
          },
          "metadata": {},
          "execution_count": 47
        }
      ]
    },
    {
      "cell_type": "code",
      "execution_count": null,
      "metadata": {
        "id": "oBzhpZC2cch1"
      },
      "outputs": [],
      "source": [
        "#전처리한 데이터 불러오기\n",
        "tokenized_data = pd.read_csv(\"/content/drive/MyDrive/ContestDataAll11_tokenize_final.csv\", encoding = 'euc-kr', low_memory = False)\n",
        "tokenized_data = tokenized_data.iloc[0:,1:]\n",
        "arr = np.array(tokenized_data)\n",
        "li = arr.tolist()"
      ]
    },
    {
      "cell_type": "code",
      "execution_count": null,
      "metadata": {
        "colab": {
          "base_uri": "https://localhost:8080/",
          "height": 423
        },
        "id": "EHVkJLWypStX",
        "outputId": "6f157c23-cf95-4183-89c4-c5fa2a80bb8e"
      },
      "outputs": [
        {
          "output_type": "execute_result",
          "data": {
            "text/plain": [
              "          0   1   2    3   4    5    6    7    8    9   10   11   12   13\n",
              "0        추리  그러   꼭    1  st   시간    말  NaN  NaN  NaN  NaN  NaN  NaN  NaN\n",
              "1      2000   1  시각   정보  깨우  NaN  NaN  NaN  NaN  NaN  NaN  NaN  NaN  NaN\n",
              "2         일   반   인   창원   저    를    떼  NaN  NaN  NaN  NaN  NaN  NaN  NaN\n",
              "3        피자   로   1    번   띠  NaN  NaN  NaN  NaN  NaN  NaN  NaN  NaN  NaN\n",
              "4         1   반  아바    ㄴ   떼   자로  나타내  NaN  NaN  NaN  NaN  NaN  NaN  NaN\n",
              "...     ...  ..  ..  ...  ..  ...  ...  ...  ...  ...  ...  ...  ...  ...\n",
              "81534     3   D  정보  모니터   끄  NaN  NaN  NaN  NaN  NaN  NaN  NaN  NaN  NaN\n",
              "81535     3   D  정보  모니터   꺼  NaN  NaN  NaN  NaN  NaN  NaN  NaN  NaN  NaN\n",
              "81536     3   D  정보  모니터   닫  NaN  NaN  NaN  NaN  NaN  NaN  NaN  NaN  NaN\n",
              "81537     3   D  정보  모니터  종료  NaN  NaN  NaN  NaN  NaN  NaN  NaN  NaN  NaN\n",
              "81538     3   D  정보  모니터  지우  NaN  NaN  NaN  NaN  NaN  NaN  NaN  NaN  NaN\n",
              "\n",
              "[81539 rows x 14 columns]"
            ],
            "text/html": [
              "\n",
              "  <div id=\"df-2d822a36-1ece-4b78-a99c-ca122804924c\">\n",
              "    <div class=\"colab-df-container\">\n",
              "      <div>\n",
              "<style scoped>\n",
              "    .dataframe tbody tr th:only-of-type {\n",
              "        vertical-align: middle;\n",
              "    }\n",
              "\n",
              "    .dataframe tbody tr th {\n",
              "        vertical-align: top;\n",
              "    }\n",
              "\n",
              "    .dataframe thead th {\n",
              "        text-align: right;\n",
              "    }\n",
              "</style>\n",
              "<table border=\"1\" class=\"dataframe\">\n",
              "  <thead>\n",
              "    <tr style=\"text-align: right;\">\n",
              "      <th></th>\n",
              "      <th>0</th>\n",
              "      <th>1</th>\n",
              "      <th>2</th>\n",
              "      <th>3</th>\n",
              "      <th>4</th>\n",
              "      <th>5</th>\n",
              "      <th>6</th>\n",
              "      <th>7</th>\n",
              "      <th>8</th>\n",
              "      <th>9</th>\n",
              "      <th>10</th>\n",
              "      <th>11</th>\n",
              "      <th>12</th>\n",
              "      <th>13</th>\n",
              "    </tr>\n",
              "  </thead>\n",
              "  <tbody>\n",
              "    <tr>\n",
              "      <th>0</th>\n",
              "      <td>추리</td>\n",
              "      <td>그러</td>\n",
              "      <td>꼭</td>\n",
              "      <td>1</td>\n",
              "      <td>st</td>\n",
              "      <td>시간</td>\n",
              "      <td>말</td>\n",
              "      <td>NaN</td>\n",
              "      <td>NaN</td>\n",
              "      <td>NaN</td>\n",
              "      <td>NaN</td>\n",
              "      <td>NaN</td>\n",
              "      <td>NaN</td>\n",
              "      <td>NaN</td>\n",
              "    </tr>\n",
              "    <tr>\n",
              "      <th>1</th>\n",
              "      <td>2000</td>\n",
              "      <td>1</td>\n",
              "      <td>시각</td>\n",
              "      <td>정보</td>\n",
              "      <td>깨우</td>\n",
              "      <td>NaN</td>\n",
              "      <td>NaN</td>\n",
              "      <td>NaN</td>\n",
              "      <td>NaN</td>\n",
              "      <td>NaN</td>\n",
              "      <td>NaN</td>\n",
              "      <td>NaN</td>\n",
              "      <td>NaN</td>\n",
              "      <td>NaN</td>\n",
              "    </tr>\n",
              "    <tr>\n",
              "      <th>2</th>\n",
              "      <td>일</td>\n",
              "      <td>반</td>\n",
              "      <td>인</td>\n",
              "      <td>창원</td>\n",
              "      <td>저</td>\n",
              "      <td>를</td>\n",
              "      <td>떼</td>\n",
              "      <td>NaN</td>\n",
              "      <td>NaN</td>\n",
              "      <td>NaN</td>\n",
              "      <td>NaN</td>\n",
              "      <td>NaN</td>\n",
              "      <td>NaN</td>\n",
              "      <td>NaN</td>\n",
              "    </tr>\n",
              "    <tr>\n",
              "      <th>3</th>\n",
              "      <td>피자</td>\n",
              "      <td>로</td>\n",
              "      <td>1</td>\n",
              "      <td>번</td>\n",
              "      <td>띠</td>\n",
              "      <td>NaN</td>\n",
              "      <td>NaN</td>\n",
              "      <td>NaN</td>\n",
              "      <td>NaN</td>\n",
              "      <td>NaN</td>\n",
              "      <td>NaN</td>\n",
              "      <td>NaN</td>\n",
              "      <td>NaN</td>\n",
              "      <td>NaN</td>\n",
              "    </tr>\n",
              "    <tr>\n",
              "      <th>4</th>\n",
              "      <td>1</td>\n",
              "      <td>반</td>\n",
              "      <td>아바</td>\n",
              "      <td>ㄴ</td>\n",
              "      <td>떼</td>\n",
              "      <td>자로</td>\n",
              "      <td>나타내</td>\n",
              "      <td>NaN</td>\n",
              "      <td>NaN</td>\n",
              "      <td>NaN</td>\n",
              "      <td>NaN</td>\n",
              "      <td>NaN</td>\n",
              "      <td>NaN</td>\n",
              "      <td>NaN</td>\n",
              "    </tr>\n",
              "    <tr>\n",
              "      <th>...</th>\n",
              "      <td>...</td>\n",
              "      <td>...</td>\n",
              "      <td>...</td>\n",
              "      <td>...</td>\n",
              "      <td>...</td>\n",
              "      <td>...</td>\n",
              "      <td>...</td>\n",
              "      <td>...</td>\n",
              "      <td>...</td>\n",
              "      <td>...</td>\n",
              "      <td>...</td>\n",
              "      <td>...</td>\n",
              "      <td>...</td>\n",
              "      <td>...</td>\n",
              "    </tr>\n",
              "    <tr>\n",
              "      <th>81534</th>\n",
              "      <td>3</td>\n",
              "      <td>D</td>\n",
              "      <td>정보</td>\n",
              "      <td>모니터</td>\n",
              "      <td>끄</td>\n",
              "      <td>NaN</td>\n",
              "      <td>NaN</td>\n",
              "      <td>NaN</td>\n",
              "      <td>NaN</td>\n",
              "      <td>NaN</td>\n",
              "      <td>NaN</td>\n",
              "      <td>NaN</td>\n",
              "      <td>NaN</td>\n",
              "      <td>NaN</td>\n",
              "    </tr>\n",
              "    <tr>\n",
              "      <th>81535</th>\n",
              "      <td>3</td>\n",
              "      <td>D</td>\n",
              "      <td>정보</td>\n",
              "      <td>모니터</td>\n",
              "      <td>꺼</td>\n",
              "      <td>NaN</td>\n",
              "      <td>NaN</td>\n",
              "      <td>NaN</td>\n",
              "      <td>NaN</td>\n",
              "      <td>NaN</td>\n",
              "      <td>NaN</td>\n",
              "      <td>NaN</td>\n",
              "      <td>NaN</td>\n",
              "      <td>NaN</td>\n",
              "    </tr>\n",
              "    <tr>\n",
              "      <th>81536</th>\n",
              "      <td>3</td>\n",
              "      <td>D</td>\n",
              "      <td>정보</td>\n",
              "      <td>모니터</td>\n",
              "      <td>닫</td>\n",
              "      <td>NaN</td>\n",
              "      <td>NaN</td>\n",
              "      <td>NaN</td>\n",
              "      <td>NaN</td>\n",
              "      <td>NaN</td>\n",
              "      <td>NaN</td>\n",
              "      <td>NaN</td>\n",
              "      <td>NaN</td>\n",
              "      <td>NaN</td>\n",
              "    </tr>\n",
              "    <tr>\n",
              "      <th>81537</th>\n",
              "      <td>3</td>\n",
              "      <td>D</td>\n",
              "      <td>정보</td>\n",
              "      <td>모니터</td>\n",
              "      <td>종료</td>\n",
              "      <td>NaN</td>\n",
              "      <td>NaN</td>\n",
              "      <td>NaN</td>\n",
              "      <td>NaN</td>\n",
              "      <td>NaN</td>\n",
              "      <td>NaN</td>\n",
              "      <td>NaN</td>\n",
              "      <td>NaN</td>\n",
              "      <td>NaN</td>\n",
              "    </tr>\n",
              "    <tr>\n",
              "      <th>81538</th>\n",
              "      <td>3</td>\n",
              "      <td>D</td>\n",
              "      <td>정보</td>\n",
              "      <td>모니터</td>\n",
              "      <td>지우</td>\n",
              "      <td>NaN</td>\n",
              "      <td>NaN</td>\n",
              "      <td>NaN</td>\n",
              "      <td>NaN</td>\n",
              "      <td>NaN</td>\n",
              "      <td>NaN</td>\n",
              "      <td>NaN</td>\n",
              "      <td>NaN</td>\n",
              "      <td>NaN</td>\n",
              "    </tr>\n",
              "  </tbody>\n",
              "</table>\n",
              "<p>81539 rows × 14 columns</p>\n",
              "</div>\n",
              "      <button class=\"colab-df-convert\" onclick=\"convertToInteractive('df-2d822a36-1ece-4b78-a99c-ca122804924c')\"\n",
              "              title=\"Convert this dataframe to an interactive table.\"\n",
              "              style=\"display:none;\">\n",
              "        \n",
              "  <svg xmlns=\"http://www.w3.org/2000/svg\" height=\"24px\"viewBox=\"0 0 24 24\"\n",
              "       width=\"24px\">\n",
              "    <path d=\"M0 0h24v24H0V0z\" fill=\"none\"/>\n",
              "    <path d=\"M18.56 5.44l.94 2.06.94-2.06 2.06-.94-2.06-.94-.94-2.06-.94 2.06-2.06.94zm-11 1L8.5 8.5l.94-2.06 2.06-.94-2.06-.94L8.5 2.5l-.94 2.06-2.06.94zm10 10l.94 2.06.94-2.06 2.06-.94-2.06-.94-.94-2.06-.94 2.06-2.06.94z\"/><path d=\"M17.41 7.96l-1.37-1.37c-.4-.4-.92-.59-1.43-.59-.52 0-1.04.2-1.43.59L10.3 9.45l-7.72 7.72c-.78.78-.78 2.05 0 2.83L4 21.41c.39.39.9.59 1.41.59.51 0 1.02-.2 1.41-.59l7.78-7.78 2.81-2.81c.8-.78.8-2.07 0-2.86zM5.41 20L4 18.59l7.72-7.72 1.47 1.35L5.41 20z\"/>\n",
              "  </svg>\n",
              "      </button>\n",
              "      \n",
              "  <style>\n",
              "    .colab-df-container {\n",
              "      display:flex;\n",
              "      flex-wrap:wrap;\n",
              "      gap: 12px;\n",
              "    }\n",
              "\n",
              "    .colab-df-convert {\n",
              "      background-color: #E8F0FE;\n",
              "      border: none;\n",
              "      border-radius: 50%;\n",
              "      cursor: pointer;\n",
              "      display: none;\n",
              "      fill: #1967D2;\n",
              "      height: 32px;\n",
              "      padding: 0 0 0 0;\n",
              "      width: 32px;\n",
              "    }\n",
              "\n",
              "    .colab-df-convert:hover {\n",
              "      background-color: #E2EBFA;\n",
              "      box-shadow: 0px 1px 2px rgba(60, 64, 67, 0.3), 0px 1px 3px 1px rgba(60, 64, 67, 0.15);\n",
              "      fill: #174EA6;\n",
              "    }\n",
              "\n",
              "    [theme=dark] .colab-df-convert {\n",
              "      background-color: #3B4455;\n",
              "      fill: #D2E3FC;\n",
              "    }\n",
              "\n",
              "    [theme=dark] .colab-df-convert:hover {\n",
              "      background-color: #434B5C;\n",
              "      box-shadow: 0px 1px 3px 1px rgba(0, 0, 0, 0.15);\n",
              "      filter: drop-shadow(0px 1px 2px rgba(0, 0, 0, 0.3));\n",
              "      fill: #FFFFFF;\n",
              "    }\n",
              "  </style>\n",
              "\n",
              "      <script>\n",
              "        const buttonEl =\n",
              "          document.querySelector('#df-2d822a36-1ece-4b78-a99c-ca122804924c button.colab-df-convert');\n",
              "        buttonEl.style.display =\n",
              "          google.colab.kernel.accessAllowed ? 'block' : 'none';\n",
              "\n",
              "        async function convertToInteractive(key) {\n",
              "          const element = document.querySelector('#df-2d822a36-1ece-4b78-a99c-ca122804924c');\n",
              "          const dataTable =\n",
              "            await google.colab.kernel.invokeFunction('convertToInteractive',\n",
              "                                                     [key], {});\n",
              "          if (!dataTable) return;\n",
              "\n",
              "          const docLinkHtml = 'Like what you see? Visit the ' +\n",
              "            '<a target=\"_blank\" href=https://colab.research.google.com/notebooks/data_table.ipynb>data table notebook</a>'\n",
              "            + ' to learn more about interactive tables.';\n",
              "          element.innerHTML = '';\n",
              "          dataTable['output_type'] = 'display_data';\n",
              "          await google.colab.output.renderOutput(dataTable, element);\n",
              "          const docLink = document.createElement('div');\n",
              "          docLink.innerHTML = docLinkHtml;\n",
              "          element.appendChild(docLink);\n",
              "        }\n",
              "      </script>\n",
              "    </div>\n",
              "  </div>\n",
              "  "
            ]
          },
          "metadata": {},
          "execution_count": 12
        }
      ],
      "source": [
        "tokenized_data"
      ]
    },
    {
      "cell_type": "code",
      "execution_count": null,
      "metadata": {
        "id": "BsR6SINAcc1v"
      },
      "outputs": [],
      "source": [
        "#리스트내에서 nan값 제거하기\n",
        "tokenize_list =[]\n",
        "for i in range(len(li)):\n",
        "    tmp=[]\n",
        "    for j in range(len(li[0])):\n",
        "        if li[i][j] is not np.nan:\n",
        "            tmp.append(li[i][j])\n",
        "    tokenize_list.append(tmp)"
      ]
    },
    {
      "cell_type": "code",
      "source": [
        "len(tokenize_list)"
      ],
      "metadata": {
        "colab": {
          "base_uri": "https://localhost:8080/"
        },
        "id": "YXlCnv8QTe9O",
        "outputId": "e43e1f3d-3a78-4cce-bc2e-3b3c01e2df66"
      },
      "execution_count": null,
      "outputs": [
        {
          "output_type": "execute_result",
          "data": {
            "text/plain": [
              "81539"
            ]
          },
          "metadata": {},
          "execution_count": 14
        }
      ]
    },
    {
      "cell_type": "code",
      "source": [
        "tokenize_list[80642]"
      ],
      "metadata": {
        "colab": {
          "base_uri": "https://localhost:8080/"
        },
        "id": "vqCRwnblXYln",
        "outputId": "3e081221-c0b7-4129-b8ee-4c5a419f6992"
      },
      "execution_count": null,
      "outputs": [
        {
          "output_type": "execute_result",
          "data": {
            "text/plain": [
              "['3', '차원', '정보', '종료']"
            ]
          },
          "metadata": {},
          "execution_count": 15
        }
      ]
    },
    {
      "cell_type": "code",
      "execution_count": null,
      "metadata": {
        "colab": {
          "base_uri": "https://localhost:8080/"
        },
        "id": "e_nmOkM8cdMQ",
        "outputId": "86dcf21d-96cf-44af-fc01-b609d8d7aad8"
      },
      "outputs": [
        {
          "output_type": "execute_result",
          "data": {
            "text/plain": [
              "617"
            ]
          },
          "metadata": {},
          "execution_count": 16
        }
      ],
      "source": [
        "#토크나이징한 단어들을 임베딩\n",
        "tokenizer=preprocessing.text.Tokenizer(oov_token='OOV')\n",
        "tokenizer.fit_on_texts(tokenize_list)\n",
        "sequences=tokenizer.texts_to_sequences(tokenize_list)\n",
        "word_index=tokenizer.word_index\n",
        "len(word_index)"
      ]
    },
    {
      "cell_type": "code",
      "execution_count": null,
      "metadata": {
        "colab": {
          "base_uri": "https://localhost:8080/"
        },
        "id": "I1g921m8cdYl",
        "outputId": "325bdfa3-c4ad-4f13-e0d8-82247f77f69c"
      },
      "outputs": [
        {
          "output_type": "execute_result",
          "data": {
            "text/plain": [
              "[4, 8, 7, 67]"
            ]
          },
          "metadata": {},
          "execution_count": 17
        }
      ],
      "source": [
        "sequences[80642]"
      ]
    },
    {
      "cell_type": "code",
      "source": [
        "word_index"
      ],
      "metadata": {
        "colab": {
          "base_uri": "https://localhost:8080/"
        },
        "id": "--LMwPznOi1s",
        "outputId": "642b790e-cde6-483b-b3d0-bfa0e65da245"
      },
      "execution_count": null,
      "outputs": [
        {
          "output_type": "execute_result",
          "data": {
            "text/plain": [
              "{'OOV': 1,\n",
              " '번': 2,\n",
              " '시각': 3,\n",
              " '3': 4,\n",
              " '째': 5,\n",
              " '2': 6,\n",
              " '정보': 7,\n",
              " '차원': 8,\n",
              " '데이터': 9,\n",
              " '자료': 10,\n",
              " '하': 11,\n",
              " '디': 12,\n",
              " '이': 13,\n",
              " 'd': 14,\n",
              " '부탁': 15,\n",
              " '띄우': 16,\n",
              " '화': 17,\n",
              " '나타내': 18,\n",
              " '보이': 19,\n",
              " '그래프': 20,\n",
              " '표시': 21,\n",
              " '공유': 22,\n",
              " '넘어가': 23,\n",
              " '도표': 24,\n",
              " '시작': 25,\n",
              " '올리': 26,\n",
              " '7': 27,\n",
              " '8': 28,\n",
              " '과': 29,\n",
              " '3차원': 30,\n",
              " '6': 31,\n",
              " '3d': 32,\n",
              " '쓰리': 33,\n",
              " '범': 34,\n",
              " '로': 35,\n",
              " '말': 36,\n",
              " '다': 37,\n",
              " '1': 38,\n",
              " 'ㄴ': 39,\n",
              " '2차원': 40,\n",
              " '를': 41,\n",
              " 'ㄹ': 42,\n",
              " '반': 43,\n",
              " '투': 44,\n",
              " '4': 45,\n",
              " '켜': 46,\n",
              " '9': 47,\n",
              " '분': 48,\n",
              " '10': 49,\n",
              " '픽업': 50,\n",
              " '알리': 51,\n",
              " '자로': 52,\n",
              " '리': 53,\n",
              " '그': 54,\n",
              " '구': 55,\n",
              " '들': 56,\n",
              " '원': 57,\n",
              " '대': 58,\n",
              " '두': 59,\n",
              " '그러': 60,\n",
              " '박자': 61,\n",
              " '5': 62,\n",
              " '떼': 63,\n",
              " '그만': 64,\n",
              " '가': 65,\n",
              " '삼': 66,\n",
              " '종료': 67,\n",
              " '일': 68,\n",
              " '화면': 69,\n",
              " '띠': 70,\n",
              " '오': 71,\n",
              " '터': 72,\n",
              " '대리': 73,\n",
              " '육': 74,\n",
              " '음악': 75,\n",
              " '창원': 76,\n",
              " '꺼': 77,\n",
              " '음': 78,\n",
              " '소거': 79,\n",
              " '안': 80,\n",
              " '열': 81,\n",
              " '일곱': 82,\n",
              " '깨우': 83,\n",
              " '찍': 84,\n",
              " '공룡': 85,\n",
              " '팔': 86,\n",
              " '시간': 87,\n",
              " '여덟': 88,\n",
              " '깨': 89,\n",
              " '비우': 90,\n",
              " '뛰': 91,\n",
              " '자': 92,\n",
              " '이번': 93,\n",
              " '아': 94,\n",
              " '사람': 95,\n",
              " '여섯': 96,\n",
              " '에': 97,\n",
              " '자루': 98,\n",
              " '네': 99,\n",
              " '보': 100,\n",
              " '시': 101,\n",
              " '아홉': 102,\n",
              " '씨': 103,\n",
              " '다루': 104,\n",
              " '지우': 105,\n",
              " '첫': 106,\n",
              " '끄': 107,\n",
              " '레프': 108,\n",
              " '따로': 109,\n",
              " '은': 110,\n",
              " '그래도': 111,\n",
              " '사': 112,\n",
              " '저': 113,\n",
              " '필요': 114,\n",
              " '달': 115,\n",
              " '시키': 116,\n",
              " 'f': 117,\n",
              " '십': 118,\n",
              " '다섯': 119,\n",
              " '10분': 120,\n",
              " '만': 121,\n",
              " '트리': 122,\n",
              " '림프': 123,\n",
              " '다음': 124,\n",
              " '고대': 125,\n",
              " '닫': 126,\n",
              " '을': 127,\n",
              " '스크린': 128,\n",
              " '모니터': 129,\n",
              " '건': 130,\n",
              " '기': 131,\n",
              " '뮤직': 132,\n",
              " '소리': 133,\n",
              " '작동': 134,\n",
              " '데이터 시각화': 135,\n",
              " '후디': 136,\n",
              " '푸': 137,\n",
              " '칠': 138,\n",
              " '치': 139,\n",
              " '석': 140,\n",
              " '마': 141,\n",
              " '인': 142,\n",
              " '듣': 143,\n",
              " '좀': 144,\n",
              " '수': 145,\n",
              " '일반': 146,\n",
              " '투자': 147,\n",
              " '산': 148,\n",
              " '뿌띠와': 149,\n",
              " '소비자': 150,\n",
              " '피자': 151,\n",
              " '지': 152,\n",
              " 't': 153,\n",
              " '오버': 154,\n",
              " '범띠': 155,\n",
              " '레': 156,\n",
              " '틀': 157,\n",
              " '푸대': 158,\n",
              " '산본': 159,\n",
              " '아바': 160,\n",
              " '권': 161,\n",
              " '삼천': 162,\n",
              " '창원시': 163,\n",
              " '각자': 164,\n",
              " '일본': 165,\n",
              " '내': 166,\n",
              " '세번': 167,\n",
              " '들리': 168,\n",
              " '세': 169,\n",
              " '불': 170,\n",
              " '없애': 171,\n",
              " '다른': 172,\n",
              " '삼성': 173,\n",
              " '때리': 174,\n",
              " '데': 175,\n",
              " '이범': 176,\n",
              " '해제': 177,\n",
              " '없': 178,\n",
              " '의': 179,\n",
              " '투데이': 180,\n",
              " '입원': 181,\n",
              " '또': 182,\n",
              " '봉': 183,\n",
              " '천': 184,\n",
              " '자르': 185,\n",
              " '지갑': 186,\n",
              " '이차': 187,\n",
              " '일찍': 188,\n",
              " '업자': 189,\n",
              " '오번': 190,\n",
              " '오반': 191,\n",
              " 'of': 192,\n",
              " '에이': 193,\n",
              " '다르': 194,\n",
              " '집': 195,\n",
              " '업': 196,\n",
              " '000': 197,\n",
              " '그래픽': 198,\n",
              " '크': 199,\n",
              " '값': 200,\n",
              " '의정부': 201,\n",
              " '크래프': 202,\n",
              " '지시': 203,\n",
              " '테이프': 204,\n",
              " '이천': 205,\n",
              " '사본': 206,\n",
              " '데이트': 207,\n",
              " '정부': 208,\n",
              " '-1': 209,\n",
              " '직업 정보': 210,\n",
              " '사범': 211,\n",
              " '제거': 212,\n",
              " '그리고': 213,\n",
              " '자두': 214,\n",
              " '목소리': 215,\n",
              " '크래프트': 216,\n",
              " '중지': 217,\n",
              " '취급자': 218,\n",
              " '푹': 219,\n",
              " '그래': 220,\n",
              " '폰': 221,\n",
              " '서': 222,\n",
              " '마이크': 223,\n",
              " '게스트': 224,\n",
              " '꼭': 225,\n",
              " '자유': 226,\n",
              " '동작': 227,\n",
              " '그래퍼': 228,\n",
              " '크레프': 229,\n",
              " '룸': 230,\n",
              " '램프': 231,\n",
              " '베이': 232,\n",
              " '나루': 233,\n",
              " '도': 234,\n",
              " '티': 235,\n",
              " '전구': 236,\n",
              " '자리': 237,\n",
              " '베스트': 238,\n",
              " '나': 239,\n",
              " '수지': 240,\n",
              " '다리': 241,\n",
              " '애프': 242,\n",
              " '코디': 243,\n",
              " '퀘스트': 244,\n",
              " '이전': 245,\n",
              " '바로': 246,\n",
              " '페이지': 247,\n",
              " '추리': 248,\n",
              " '사용': 249,\n",
              " '개': 250,\n",
              " '요건': 251,\n",
              " '리크': 252,\n",
              " '아이크': 253,\n",
              " '이건': 254,\n",
              " '거': 255,\n",
              " '비': 256,\n",
              " '소가': 257,\n",
              " 'g': 258,\n",
              " 'bgm': 259,\n",
              " '포인트': 260,\n",
              " '풀': 261,\n",
              " '전': 262,\n",
              " '청소': 263,\n",
              " '삭제': 264,\n",
              " '염소': 265,\n",
              " '그라운드': 266,\n",
              " '주소': 267,\n",
              " '테스트': 268,\n",
              " 'bgn': 269,\n",
              " '수거': 270,\n",
              " '속': 271,\n",
              " 'cd': 272,\n",
              " '한': 273,\n",
              " '회비': 274,\n",
              " '강': 275,\n",
              " '3000': 276,\n",
              " '금': 277,\n",
              " 'ppt': 278,\n",
              " '3차워': 279,\n",
              " 'udd': 280,\n",
              " '레이': 281,\n",
              " '유대': 282,\n",
              " '테레비': 283,\n",
              " 'la': 284,\n",
              " '3100': 285,\n",
              " '삼촌': 286,\n",
              " '준서': 287,\n",
              " '싫': 288,\n",
              " '엘': 289,\n",
              " '레디': 290,\n",
              " '프레디': 291,\n",
              " '이제': 292,\n",
              " '빨리': 293,\n",
              " '시리': 294,\n",
              " '형': 295,\n",
              " '셀': 296,\n",
              " '없어': 297,\n",
              " 'lady': 298,\n",
              " '휴': 299,\n",
              " '철권': 300,\n",
              " '밸리': 301,\n",
              " '트레이드': 302,\n",
              " '레이저': 303,\n",
              " '페르디': 304,\n",
              " '촌': 305,\n",
              " 'lad': 306,\n",
              " '베르디': 307,\n",
              " '것': 308,\n",
              " '0': 309,\n",
              " '재희': 310,\n",
              " '오본': 311,\n",
              " '대대': 312,\n",
              " 'led': 313,\n",
              " '오부': 314,\n",
              " '쓰레기': 315,\n",
              " '동해': 316,\n",
              " '움직이': 317,\n",
              " '삼척': 318,\n",
              " '상권': 319,\n",
              " '드리': 320,\n",
              " '드레드': 321,\n",
              " '3분': 322,\n",
              " '앨범': 323,\n",
              " '밤': 324,\n",
              " '그리': 325,\n",
              " '천원': 326,\n",
              " '이타': 327,\n",
              " 'rd': 328,\n",
              " '라운드': 329,\n",
              " '카': 330,\n",
              " '드릴': 331,\n",
              " 'udt': 332,\n",
              " '그레이드': 333,\n",
              " '새': 334,\n",
              " 'st': 335,\n",
              " '토지': 336,\n",
              " '불필요': 337,\n",
              " '차': 338,\n",
              " '영어': 339,\n",
              " '둘': 340,\n",
              " '쥬디': 341,\n",
              " '사라지': 342,\n",
              " '휴지': 343,\n",
              " '구비': 344,\n",
              " '큐리': 345,\n",
              " '세대': 346,\n",
              " '이창훈': 347,\n",
              " '이탄': 348,\n",
              " '이창욱': 349,\n",
              " '푸지': 350,\n",
              " '부비': 351,\n",
              " '쁘띠': 352,\n",
              " '깔': 353,\n",
              " '수리': 354,\n",
              " '파일': 355,\n",
              " '슈리': 356,\n",
              " '목': 357,\n",
              " '타': 358,\n",
              " '이창원': 359,\n",
              " '2000': 360,\n",
              " '탄': 361,\n",
              " '부디': 362,\n",
              " '알': 363,\n",
              " '쓰': 364,\n",
              " '포인터': 365,\n",
              " '이창': 366,\n",
              " '옥': 367,\n",
              " '라이트': 368,\n",
              " '후지': 369,\n",
              " '술': 370,\n",
              " '병': 371,\n",
              " '많이': 372,\n",
              " '아이콘': 373,\n",
              " '아이돌': 374,\n",
              " '부대': 375,\n",
              " '초': 376,\n",
              " '와이파이': 377,\n",
              " '마이클': 378,\n",
              " '비번': 379,\n",
              " '요금': 380,\n",
              " '영화': 381,\n",
              " '호리': 382,\n",
              " '바이크': 383,\n",
              " '마이': 384,\n",
              " '아이쿠': 385,\n",
              " '식권': 386,\n",
              " '아이폰': 387,\n",
              " '아이': 388,\n",
              " '요번': 389,\n",
              " '오방': 390,\n",
              " '우방': 391,\n",
              " 'nd': 392,\n",
              " '고민': 393,\n",
              " '더': 394,\n",
              " '방': 395,\n",
              " '배경 음악': 396,\n",
              " '배경': 397,\n",
              " '지엠': 398,\n",
              " '가범': 399,\n",
              " '첨부': 400,\n",
              " '닫히': 401,\n",
              " 'th': 402,\n",
              " '아이즈': 403,\n",
              " '계시': 404,\n",
              " '바보': 405,\n",
              " '툴': 406,\n",
              " '모범': 407,\n",
              " '오븐': 408,\n",
              " '초범': 409,\n",
              " '우범': 410,\n",
              " '게': 411,\n",
              " '뜯': 412,\n",
              " '법무': 413,\n",
              " '본': 414,\n",
              " '급하': 415,\n",
              " '범퍼': 416,\n",
              " '개스': 417,\n",
              " '전부': 418,\n",
              " '밥': 419,\n",
              " '캐스트를': 420,\n",
              " '호프': 421,\n",
              " '오프': 422,\n",
              " '본부': 423,\n",
              " '부': 424,\n",
              " '하남': 425,\n",
              " '관보': 426,\n",
              " '점보': 427,\n",
              " '쿠팡': 428,\n",
              " '규범': 429,\n",
              " '쿠폰': 430,\n",
              " '경': 431,\n",
              " '영': 432,\n",
              " '구분': 433,\n",
              " '장': 434,\n",
              " '굿': 435,\n",
              " '그것': 436,\n",
              " '구관': 437,\n",
              " '트위터': 438,\n",
              " '오인': 439,\n",
              " '홍': 440,\n",
              " '지시봉': 441,\n",
              " '이시': 442,\n",
              " '고': 443,\n",
              " '잉': 444,\n",
              " '인덕': 445,\n",
              " '국방': 446,\n",
              " '이정': 447,\n",
              " '살': 448,\n",
              " '제': 449,\n",
              " '백그라운드': 450,\n",
              " '비지앰': 451,\n",
              " '어': 452,\n",
              " '내리': 453,\n",
              " '허용': 454,\n",
              " '치우': 455,\n",
              " '짱': 456,\n",
              " '마음': 457,\n",
              " 'dc': 458,\n",
              " '사양': 459,\n",
              " '슬': 460,\n",
              " '슬랭': 461,\n",
              " '슬램': 462,\n",
              " '확인': 463,\n",
              " '가르치': 464,\n",
              " 'gc': 465,\n",
              " 'cc': 466,\n",
              " '띄': 467,\n",
              " '어떻': 468,\n",
              " '되': 469,\n",
              " '비루': 470,\n",
              " '끌': 471,\n",
              " '끊': 472,\n",
              " '레이저 포인터': 473,\n",
              " '포': 474,\n",
              " '블랙': 475,\n",
              " '음소': 476,\n",
              " '허허': 477,\n",
              " '허허허': 478,\n",
              " '허': 479,\n",
              " '만들': 480,\n",
              " '떨어지': 481,\n",
              " '애경': 482,\n",
              " '애정': 483,\n",
              " '크라운': 484,\n",
              " '드': 485,\n",
              " '태경': 486,\n",
              " 'dm': 487,\n",
              " 'gm': 488,\n",
              " 'gmp': 489,\n",
              " 'dmp': 490,\n",
              " '이지앰': 491,\n",
              " '지엔': 492,\n",
              " '이지애': 493,\n",
              " 'dgn': 494,\n",
              " '이지현': 495,\n",
              " '경음악': 496,\n",
              " '브금': 497,\n",
              " '죽음': 498,\n",
              " '이지영': 499,\n",
              " '지안': 500,\n",
              " '유경': 501,\n",
              " '안녕': 502,\n",
              " '김경': 503,\n",
              " '미': 504,\n",
              " '금영': 505,\n",
              " '은아': 506,\n",
              " '문경': 507,\n",
              " '수영': 508,\n",
              " '임지현': 509,\n",
              " '이지연': 510,\n",
              " '김지현': 511,\n",
              " '김지연': 512,\n",
              " '이주연': 513,\n",
              " '이지함': 514,\n",
              " '주': 515,\n",
              " '양': 516,\n",
              " '이주형': 517,\n",
              " '이주향': 518,\n",
              " '이지혜': 519,\n",
              " '이주': 520,\n",
              " '히터': 521,\n",
              " '탁': 522,\n",
              " '인격': 523,\n",
              " '윈터': 524,\n",
              " '무인': 525,\n",
              " '타워': 526,\n",
              " '홈': 527,\n",
              " '소민': 528,\n",
              " '홀': 529,\n",
              " '조민서': 530,\n",
              " '민': 531,\n",
              " '레인저': 532,\n",
              " '프린터': 533,\n",
              " '혼다': 534,\n",
              " '코': 535,\n",
              " '인트': 536,\n",
              " '메이저': 537,\n",
              " '메이': 538,\n",
              " '15': 539,\n",
              " '응': 540,\n",
              " '인턴': 541,\n",
              " '지지': 542,\n",
              " '이지': 543,\n",
              " 'gg': 544,\n",
              " '비봉': 545,\n",
              " '이봉': 546,\n",
              " '엔터': 547,\n",
              " '오윤': 548,\n",
              " '공': 549,\n",
              " '인도': 550,\n",
              " '얼': 551,\n",
              " '천장': 552,\n",
              " '걷': 553,\n",
              " '루': 554,\n",
              " '가루': 555,\n",
              " '앙': 556,\n",
              " '홈페이지': 557,\n",
              " '소개': 558,\n",
              " '조용히': 559,\n",
              " '금지': 560,\n",
              " '째 코': 561,\n",
              " '각': 562,\n",
              " '다리 시': 563,\n",
              " '으로': 564,\n",
              " '바': 565,\n",
              " '로건': 566,\n",
              " '덜': 567,\n",
              " '정': 568,\n",
              " '전장': 569,\n",
              " '안장': 570,\n",
              " '권장': 571,\n",
              " '원장': 572,\n",
              " '건장': 573,\n",
              " '원당': 574,\n",
              " '광장': 575,\n",
              " '반장': 576,\n",
              " '헌장': 577,\n",
              " '현장': 578,\n",
              " '비전': 579,\n",
              " '전과': 580,\n",
              " '알람': 581,\n",
              " '아음': 582,\n",
              " '건우': 583,\n",
              " '걸': 584,\n",
              " '담': 585,\n",
              " '감': 586,\n",
              " '잠': 587,\n",
              " '창': 588,\n",
              " '음정': 589,\n",
              " '곡': 590,\n",
              " '엇': 591,\n",
              " '아무': 592,\n",
              " '암': 593,\n",
              " '강하면': 594,\n",
              " '딴': 595,\n",
              " '후지 시': 596,\n",
              " '철권 3': 597,\n",
              " '원 데이': 598,\n",
              " '간': 599,\n",
              " '리자': 600,\n",
              " '철권 2': 601,\n",
              " '두번째 달': 602,\n",
              " '자리 구': 603,\n",
              " '더 블랙': 604,\n",
              " '카 2': 605,\n",
              " '후지 산': 606,\n",
              " '에 산': 607,\n",
              " '다리 구': 608,\n",
              " '레이드 2': 609,\n",
              " '산타': 610,\n",
              " '루 산': 611,\n",
              " '고대 영어': 612,\n",
              " '이디 산': 613,\n",
              " '100': 614,\n",
              " '보 주': 615,\n",
              " '미리': 616,\n",
              " '원자로': 617}"
            ]
          },
          "metadata": {},
          "execution_count": 18
        }
      ]
    },
    {
      "cell_type": "code",
      "source": [
        "word_index['포인트']"
      ],
      "metadata": {
        "colab": {
          "base_uri": "https://localhost:8080/"
        },
        "id": "Bu9iVcziPVkY",
        "outputId": "23b3716c-c319-4557-de32-1996a9f0d619"
      },
      "execution_count": null,
      "outputs": [
        {
          "output_type": "execute_result",
          "data": {
            "text/plain": [
              "260"
            ]
          },
          "metadata": {},
          "execution_count": 18
        }
      ]
    },
    {
      "cell_type": "code",
      "execution_count": null,
      "metadata": {
        "colab": {
          "base_uri": "https://localhost:8080/"
        },
        "id": "kNixCir2cdiC",
        "outputId": "0c72bc64-4d89-42cc-9261-73d74e7fcc09"
      },
      "outputs": [
        {
          "output_type": "execute_result",
          "data": {
            "text/plain": [
              "14"
            ]
          },
          "metadata": {},
          "execution_count": 19
        }
      ],
      "source": [
        "#시퀀스 최대 길이 구하기\n",
        "maxlen_sequence=0\n",
        "for review_number in range(len(sequences)):\n",
        "  numberofwords=len(sequences[review_number])\n",
        "  if (numberofwords) > (maxlen_sequence):\n",
        "    maxlen_sequence=numberofwords\n",
        "maxlen_sequence"
      ]
    },
    {
      "cell_type": "code",
      "execution_count": null,
      "metadata": {
        "id": "OEMLxY5RcdtX"
      },
      "outputs": [],
      "source": [
        "#시퀀스의 패딩 처리\n",
        "padded_seqs=preprocessing.sequence.pad_sequences(sequences, maxlen=maxlen_sequence,\n",
        "                                                 padding='post')"
      ]
    },
    {
      "cell_type": "code",
      "execution_count": null,
      "metadata": {
        "colab": {
          "base_uri": "https://localhost:8080/"
        },
        "id": "PfPnYxPCcd5J",
        "outputId": "9bfcc15a-a7ae-4537-ec36-468d7507676f"
      },
      "outputs": [
        {
          "output_type": "execute_result",
          "data": {
            "text/plain": [
              "618"
            ]
          },
          "metadata": {},
          "execution_count": 21
        }
      ],
      "source": [
        "#하이퍼 파라미터 설정\n",
        "dropout_prob=0.2\n",
        "embedding_size=128\n",
        "epoch=3\n",
        "word_size=len(word_index)+1\n",
        "word_size"
      ]
    },
    {
      "cell_type": "code",
      "execution_count": null,
      "metadata": {
        "colab": {
          "base_uri": "https://localhost:8080/"
        },
        "id": "rcQfitOeuwe8",
        "outputId": "7ce24819-7edc-4a36-ccbd-ad2c7862f15c"
      },
      "outputs": [
        {
          "output_type": "execute_result",
          "data": {
            "text/plain": [
              "int"
            ]
          },
          "metadata": {},
          "execution_count": 22
        }
      ],
      "source": [
        "type(labels[0])"
      ]
    },
    {
      "cell_type": "code",
      "execution_count": null,
      "metadata": {
        "id": "4XmRqK98ceEN"
      },
      "outputs": [],
      "source": [
        "#데이터를 학습데이터, 검증데이터, 테스트 데이터로 분활\n",
        "ds=tf.data.Dataset.from_tensor_slices((padded_seqs, labels))\n",
        "ds=ds.shuffle(len(padded_seqs))\n",
        "\n",
        "#train_size=int(len(padded_seqs)*0.9)\n",
        "train_size=int(len(padded_seqs)*0.7)\n",
        "val_size=int(len(padded_seqs)*0.2)\n",
        "test_size=int(len(padded_seqs)*0.1)\n",
        "\n",
        "train_ds=ds.take(train_size).batch(30)\n",
        "val_ds=ds.skip(train_size).take(val_size).batch(30)\n",
        "#test_ds=ds.skip(train_size).take(test_size).batch(30)\n",
        "test_ds=ds.skip(train_size+val_size).take(test_size).batch(30)"
      ]
    },
    {
      "cell_type": "code",
      "execution_count": null,
      "metadata": {
        "colab": {
          "base_uri": "https://localhost:8080/"
        },
        "id": "j98HpqklcePZ",
        "outputId": "0576f1eb-7ce7-4964-9f52-0aaf229ecded"
      },
      "outputs": [
        {
          "output_type": "execute_result",
          "data": {
            "text/plain": [
              "81539"
            ]
          },
          "metadata": {},
          "execution_count": 24
        }
      ],
      "source": [
        "len(padded_seqs)"
      ]
    },
    {
      "cell_type": "code",
      "execution_count": null,
      "metadata": {
        "id": "zEz02rVyceai"
      },
      "outputs": [],
      "source": [
        "#Early Stoping 설정\n",
        "early_stop = EarlyStopping(monitor='val_loss', mode='auto')"
      ]
    },
    {
      "cell_type": "code",
      "source": [
        "from tensorflow.keras.layers import Bidirectional, LSTM, Dense, TimeDistributed"
      ],
      "metadata": {
        "id": "ruHVq9wwhppv"
      },
      "execution_count": null,
      "outputs": []
    },
    {
      "cell_type": "code",
      "source": [
        "#CNN모델 생성\n",
        "input_layer =Input(shape=(maxlen_sequence,))\n",
        "embedding_layer = Embedding(input_dim=word_size, output_dim=embedding_size, input_length=maxlen_sequence)(input_layer)\n",
        "embedding_dropout=Dropout(rate=dropout_prob)(embedding_layer)\n",
        "\n",
        "conv1=Conv1D(\n",
        "    filters=128,\n",
        "    kernel_size=2,\n",
        "    padding='valid',\n",
        "    activation=tf.nn.relu)(embedding_dropout)\n",
        "lstm1=LSTM(64,recurrent_dropout=0.5,return_sequences=True)(conv1)\n",
        "#lstm1=Bidirectional(LSTM(100,dropout=0.2,recurrent_dropout=0.2,return_sequences=True))(conv1)\n",
        "pool1=GlobalMaxPool1D()(conv1)\n",
        "\n",
        "conv2=Conv1D(\n",
        "    filters=128,\n",
        "    kernel_size=3,\n",
        "    padding='valid',\n",
        "    activation=tf.nn.relu)(embedding_dropout)\n",
        "lstm2=LSTM(64,recurrent_dropout=0.5,return_sequences=True)(conv2)\n",
        "#lstm2=Bidirectional(LSTM(100,dropout=0.2,recurrent_dropout=0.2,return_sequences=True))(conv2)\n",
        "pool2=GlobalMaxPool1D()(conv2)\n",
        "\n",
        "conv3=Conv1D(\n",
        "    filters=128, \n",
        "    kernel_size=4,\n",
        "    padding='valid',\n",
        "    activation=tf.nn.relu)(embedding_dropout)\n",
        "lstm3=LSTM(64,recurrent_dropout=0.5,return_sequences=True)(conv3)\n",
        "#lstm3=Bidirectional(LSTM(100,dropout=0.2,recurrent_dropout=0.2,return_sequences=True))(conv3)\n",
        "pool3=GlobalMaxPool1D()(conv3)\n",
        "\n",
        "concat=concatenate([pool1,pool2,pool3])\n",
        "hidden=Dense(128,activation=tf.nn.relu)(concat)\n",
        "dropout_hidden=Dropout(rate=dropout_prob)(hidden)\n",
        "logits=Dense(30, name='logits')(dropout_hidden)\n",
        "predictions=Dense(30,activation='softmax')(logits)\n",
        "model=Model(inputs=input_layer, outputs=predictions)\n",
        "model.compile(loss='sparse_categorical_crossentropy', optimizer='adam', metrics=['accuracy'])"
      ],
      "metadata": {
        "id": "o6lOUcZuSLBO"
      },
      "execution_count": null,
      "outputs": []
    },
    {
      "cell_type": "code",
      "source": [
        "model.fit(train_ds, validation_data=val_ds, epochs=5, verbose=1)"
      ],
      "metadata": {
        "id": "qebsJyNYmjTG"
      },
      "execution_count": null,
      "outputs": []
    },
    {
      "cell_type": "code",
      "source": [
        "loss, accuracy=model.evaluate(test_ds, verbose=1)\n",
        "print('Accuracy: %f' % (accuracy))\n",
        "print('lossL %f'%(loss))"
      ],
      "metadata": {
        "id": "89qXXMKSmkgJ"
      },
      "execution_count": null,
      "outputs": []
    },
    {
      "cell_type": "code",
      "execution_count": null,
      "metadata": {
        "colab": {
          "base_uri": "https://localhost:8080/"
        },
        "id": "1R5LcvKTnYxg",
        "outputId": "3f0971f7-3d46-40e1-bcea-cb33eddf57c9"
      },
      "outputs": [
        {
          "output_type": "stream",
          "name": "stdout",
          "text": [
            "Epoch 1/3\n",
            "2447/2447 [==============================] - 41s 17ms/step - loss: 0.2554 - accuracy: 0.9255\n",
            "Epoch 2/3\n",
            "2447/2447 [==============================] - 39s 16ms/step - loss: 0.0169 - accuracy: 0.9952\n",
            "Epoch 3/3\n",
            "2447/2447 [==============================] - 39s 16ms/step - loss: 0.0118 - accuracy: 0.9962\n"
          ]
        },
        {
          "output_type": "execute_result",
          "data": {
            "text/plain": [
              "<keras.callbacks.History at 0x7f335b728d50>"
            ]
          },
          "metadata": {},
          "execution_count": 66
        }
      ],
      "source": [
        "#model.fit(train_ds, validation_data=val_ds, epochs=5, verbose=1)\n",
        "model.fit(train_ds, epochs=3, verbose=1)"
      ]
    },
    {
      "cell_type": "code",
      "execution_count": null,
      "metadata": {
        "colab": {
          "base_uri": "https://localhost:8080/"
        },
        "id": "j5Hu-_2cqP00",
        "outputId": "992113b1-7705-4e79-dd66-139246e98dbc"
      },
      "outputs": [
        {
          "output_type": "stream",
          "name": "stdout",
          "text": [
            "272/272 [==============================] - 2s 5ms/step - loss: 0.0042 - accuracy: 0.9982\n",
            "Accuracy: 0.998160\n",
            "lossL 0.004224\n"
          ]
        }
      ],
      "source": [
        "loss, accuracy=model.evaluate(test_ds, verbose=1)\n",
        "print('Accuracy: %f' % (accuracy))\n",
        "print('lossL %f'%(loss))"
      ]
    },
    {
      "cell_type": "code",
      "execution_count": null,
      "metadata": {
        "id": "n4hGkN8Hrr7i"
      },
      "outputs": [],
      "source": [
        "model.save('Contest_Cnn_Lstm_model11_CnnLstm_Capston2.h5')"
      ]
    },
    {
      "cell_type": "code",
      "execution_count": null,
      "metadata": {
        "id": "uPpfvoPncell"
      },
      "outputs": [],
      "source": [
        "#최적의 하이퍼파라미터 값을 구하기 위한 튜닝\n",
        "def build_model(hp):\n",
        "  \n",
        "  #embedding_size=128\n",
        "  word_size=618\n",
        "  maxlen_sequence=14\n",
        "  #hp_units\n",
        "  #튜닝할 하이퍼 파라미터 값들\n",
        "  hp_embedding_size=hp.Choice('embeding_size',values=[64,128,256,512])\n",
        "  hp_n_filters = hp.Int('n_filters', min_value=128, max_value=512, step=30)\n",
        "  hp_dropout_prob=hp.Choice('dropout_units',values=[0.25 ,0.5, 0.75])\n",
        "  hp_filter_size=hp.Choice('filter_size',values=[2,3,4])\n",
        "  hp_recurrent_dropout_porb=hp.Choice('recurrent_dropout_units',values=[0.25,0.5,0.75])\n",
        "\n",
        "  #입력계층\n",
        "  input_layer =Input(shape=(maxlen_sequence,))\n",
        "  #임베딩 계층\n",
        "  embedding_layer = Embedding(input_dim=word_size, output_dim=hp_embedding_size, input_length=maxlen_sequence)(input_layer)\n",
        "  dropout_emb=Dropout(rate=hp_dropout_prob)(embedding_layer)\n",
        "\n",
        "  #1D CNN을 통한 특징 추출\n",
        "  conv1=Conv1D(\n",
        "    filters=hp_n_filters,\n",
        "    kernel_size=hp_filter_size,\n",
        "    padding='valid',\n",
        "    activation=tf.nn.relu)(dropout_emb)\n",
        "  #양방향 LSTM 결합(CNN_BiLstm)\n",
        "  lstm1=LSTM(64,recurrent_dropout=hp_recurrent_dropout_porb,return_sequences=True)(conv1)\n",
        "  #lstm1=Bidirectional(100,recurrent_dropout=hp_recurrent_dropout_porb,return_sequences=True)(conv1)\n",
        "  #맥스풀링 연산 수행\n",
        "  pool_1=GlobalMaxPool1D()(lstm1)\n",
        "\n",
        "  #1D CNN을 통한 특징 추출\n",
        "  conv2=Conv1D(\n",
        "    filters=hp_n_filters, \n",
        "    kernel_size=hp_filter_size+1,\n",
        "    padding='valid',\n",
        "    activation=tf.nn.relu)(dropout_emb)\n",
        "  #양방향 LSTM 결합(CNN_BiLstm)\n",
        "  lstm2=LSTM(64,recurrent_dropout=hp_recurrent_dropout_porb,return_sequences=True)(conv2)\n",
        "  #lstm2=Bidirectional(100,recurrent_dropout=hp_recurrent_dropout_porb,return_sequences=True)(conv2)\n",
        "  #맥스풀링 연산 수행\n",
        "  pool_2=GlobalMaxPool1D()(lstm2)\n",
        "\n",
        "  #1D CNN을 통한 특징 추출\n",
        "  conv3=Conv1D(\n",
        "    filters=hp_n_filters,  \n",
        "    kernel_size=hp_filter_size+2,\n",
        "    padding='valid',\n",
        "    activation=tf.nn.relu)(dropout_emb)\n",
        "  #LSTM 결합(CNN_BiLstm)\n",
        "  lstm3=LSTM(64,recurrent_dropout=hp_recurrent_dropout_porb,return_sequences=True)(conv3)\n",
        "  #lstm3=Bidirectional(100,recurrent_dropout=hp_recurrent_dropout_porb,return_sequences=True)(conv3)\n",
        "  #맥스풀링 연산 수행\n",
        "  pool_3=GlobalMaxPool1D()(lstm3)\n",
        " \n",
        "  #CNN_BiLstm을 병렬로 결합\n",
        "  concat=concatenate([pool_1,pool_2,pool_3])\n",
        "\n",
        "  #은닉층 생성\n",
        "  hidden =Dense(hp_n_filters, activation=tf.nn.relu)(concat)\n",
        "  dropout_hidden=Dropout(rate=dropout_prob)(hidden)\n",
        "  #점수값(logits=score) 출력\n",
        "  logits=Dense(30, name='logits')(dropout_hidden)\n",
        "  #점수를 토대로 라벨(정답값예측)\n",
        "  predictions=Dense(30, activation=tf.nn.softmax)(logits)\n",
        "\n",
        "  model=Model(inputs=input_layer, outputs=predictions)\n",
        "  model.compile(optimizer='adam',loss='sparse_categorical_crossentropy',\n",
        "              metrics=['accuracy'])\n",
        "  return model"
      ]
    },
    {
      "cell_type": "code",
      "execution_count": null,
      "metadata": {
        "id": "W48ZL97-cewD"
      },
      "outputs": [],
      "source": [
        "#importing random search\n",
        "from kerastuner import RandomSearch\n",
        "#랜덤 서치 객체 생성\n",
        "tuner = RandomSearch(build_model,\n",
        "                    objective='val_accuracy',\n",
        "                    max_trials = 5,\n",
        "                     overwrite=True\n",
        "                    )\n",
        "# 최적의 모델 선택\n",
        "tuner.search(train_ds,epochs=5,validation_data=val_ds)"
      ]
    },
    {
      "cell_type": "code",
      "execution_count": null,
      "metadata": {
        "id": "sptYcHIDdINK"
      },
      "outputs": [],
      "source": [
        "model=tuner.get_best_models(num_models=1)[0]\n",
        "#summary of best model\n",
        "model.summary()"
      ]
    },
    {
      "cell_type": "code",
      "execution_count": null,
      "metadata": {
        "colab": {
          "base_uri": "https://localhost:8080/"
        },
        "id": "p58_3VIodJys",
        "outputId": "91929c2c-9dd2-444b-927c-702721e15de4"
      },
      "outputs": [
        {
          "output_type": "stream",
          "name": "stdout",
          "text": [
            "272/272 [==============================] - 9s 28ms/step - loss: 0.0065 - accuracy: 0.9978\n",
            "Accuracy: 0.997792\n",
            "lossL 0.006458\n"
          ]
        }
      ],
      "source": [
        "loss, accuracy=model.evaluate(test_ds, verbose=1)\n",
        "print('Accuracy: %f' % (accuracy))\n",
        "print('lossL %f'%(loss))"
      ]
    },
    {
      "cell_type": "code",
      "execution_count": null,
      "metadata": {
        "id": "u4yJcZEGdLc9"
      },
      "outputs": [],
      "source": [
        "model.save('Contest_Cnn_Lstm_model3_1.h5')"
      ]
    },
    {
      "cell_type": "code",
      "source": [
        "import tensorflow as tf\n",
        "from tensorflow.keras.models import Model, load_model\n",
        "from tensorflow.keras import preprocessing\n",
        "from konlpy.tag import Komoran\n",
        "\n",
        "class IntentModel:\n",
        "    def __init__(self, model_name):\n",
        "        self.labels ={0: '0', 1: '1', 2: '2', 3: '3', 4: '4', 5: '5', 6: '6', 7: '7', 8: '8', 9: '9', 10: '10', 11: '11', 12: '12', 13: '13', 14: '14', 15: '15', 16: '16', 17: '17', 18: '18', 19: '19', 20: '20', 21: '21', 22: '22', 23: '23', 24: '24', 25: '25', 26: '26', 27: '27', 28: '28', 29: '29'}\n",
        "        self.model = load_model(model_name)\n",
        "\n",
        "\n",
        "    def predict_class(self, query):\n",
        "        query=query.lower()\n",
        "        komoran = Komoran()\n",
        "        MAX_SEQ_LEN = 14\n",
        "        input_text = komoran.pos(query)\n",
        "        print(input_text)\n",
        "        exclusion_tags=['EC','VX', 'XSV','SS','SF','SP','EF','JKO']\n",
        "        word_list=[]\n",
        "        for i in input_text:\n",
        "            if i[1] not in exclusion_tags:\n",
        "                word_list.append(i[0])\n",
        "        print(word_list)\n",
        "        word_index_dict = {}\n",
        "        with open('ContestData_word_index11_Capston2_01.txt','r', encoding = 'UTF-8') as f:\n",
        "        #with open('ContestData_word_index11.txt','r', encoding = 'UTF-8') as f:\n",
        "        #with open('ContestData_word_index3.txt','r', encoding = 'UTF-8') as f:\n",
        "            #'ContestData_word_index11_Capston2_01.txt'\n",
        "            while True:\n",
        "                line = f.readline()\n",
        "                try:\n",
        "                    word_index_dict[eval(line.split(':')[0].strip(' '))] = int(line.split(':')[1].rstrip(',\\n'))\n",
        "                except:\n",
        "                    pass\n",
        "                if not line : break\n",
        "        #print('word_index_dictionary')\n",
        "        #print(word_index_dict)\n",
        "        w2i=[]\n",
        "        for word in word_list:\n",
        "            try:\n",
        "                w2i.append(word_index_dict[word])\n",
        "            except KeyError:\n",
        "                pass\n",
        "            \n",
        "        sequences=[w2i]\n",
        "        padded_sen=preprocessing.sequence.pad_sequences(sequences, maxlen=MAX_SEQ_LEN, padding='post')\n",
        "        predict = self.model.predict(padded_sen)\n",
        "        \n",
        "        real_IDO=np.array(['포인트'])\n",
        "        word_list=np.array(word_list)\n",
        "        \n",
        "        if (True in (np.in1d(word_list, real_IDO))):\n",
        "          predict[0,0:22]=0\n",
        "          predict[0,24:]=0\n",
        "\n",
        "        predict_prob=np.max(predict[0])\n",
        "        predict_class = tf.math.argmax(predict, axis = 1)\n",
        "\n",
        "        return predict,predict_prob, predict_class.numpy()[0]"
      ],
      "metadata": {
        "id": "tbP-sX3wBqcT"
      },
      "execution_count": null,
      "outputs": []
    },
    {
      "cell_type": "code",
      "execution_count": null,
      "metadata": {
        "colab": {
          "base_uri": "https://localhost:8080/"
        },
        "id": "y0UHciJ9FQcF",
        "outputId": "1d57716a-ad83-4a39-a438-427261bb2247"
      },
      "outputs": [
        {
          "output_type": "stream",
          "name": "stdout",
          "text": [
            "[('오', 'NR'), ('인트', 'NNP'), ('꺼', 'NNB'), ('주', 'VX'), ('어', 'EF'), ('!', 'SF')]\n",
            "['오', '인트', '꺼']\n",
            "1/1 [==============================] - 0s 132ms/step\n",
            "확률: 0.9999884366989136\n",
            "예측 라벨 값(23):23\n"
          ]
        }
      ],
      "source": [
        "intent=IntentModel('Contest_Cnn_Lstm_model11_CnnLstm_Capston2.h5')\n",
        "query='오인트 꺼 줘!' \n",
        "predict,predict_prob,predict_class=intent.predict_class(query)\n",
        "print('확률: {}'.format(predict_prob))\n",
        "print('예측 라벨 값(23):{}'.format(predict_class))"
      ]
    },
    {
      "cell_type": "code",
      "source": [
        "intent=IntentModel('Contest_Cnn_Lstm_model3.h5')\n",
        "\n",
        "query='비지엠 틀어줘' \n",
        "predict,predict_prob,predict_class=intent.predict_class(query)\n",
        "print(predict)\n",
        "print(type(predict))\n",
        "print(predict_prob)\n",
        "print(predict_class)"
      ],
      "metadata": {
        "colab": {
          "base_uri": "https://localhost:8080/"
        },
        "id": "vMTJ4x-8FNg-",
        "outputId": "032d15ac-5123-450c-bac1-32dac7488e1d"
      },
      "execution_count": null,
      "outputs": [
        {
          "output_type": "stream",
          "name": "stdout",
          "text": [
            "[('비', 'XPN'), ('지엠', 'NNP'), ('틀', 'VV'), ('어', 'EC'), ('주', 'VX'), ('어', 'EC')]\n",
            "['비', '지엠', '틀']\n",
            "word_index_dictionary\n",
            "{'번': 2, '시각': 3, '3': 4, '째': 5, '2': 6, '정보': 7, '차원': 8, '데이터': 9, '자료': 10, '하': 11, '디': 12, '이': 13, 'd': 14, '부탁': 15, '띄우': 16, '화': 17, '나타내': 18, '보이': 19, '그래프': 20, '표시': 21, '공유': 22, '넘어가': 23, '도표': 24, '시작': 25, '올리': 26, '7': 27, '8': 28, '과': 29, '3차원': 30, '6': 31, '3d': 32, '쓰리': 33, '범': 34, '로': 35, '말': 36, '다': 37, '1': 38, 'ㄴ': 39, '2차원': 40, '를': 41, 'ㄹ': 42, '반': 43, '투': 44, '4': 45, '켜': 46, '9': 47, '분': 48, '10': 49, '픽업': 50, '알리': 51, '자로': 52, '리': 53, '그': 54, '구': 55, '들': 56, '원': 57, '대': 58, '두': 59, '그러': 60, '박자': 61, '5': 62, '떼': 63, '그만': 64, '가': 65, '삼': 66, '종료': 67, '일': 68, '화면': 69, '띠': 70, '오': 71, '터': 72, '대리': 73, '육': 74, '음악': 75, '창원': 76, '꺼': 77, '음': 78, '소거': 79, '안': 80, '열': 81, '일곱': 82, '깨우': 83, '찍': 84, '공룡': 85, '팔': 86, '시간': 87, '여덟': 88, '깨': 89, '비우': 90, '뛰': 91, '자': 92, '이번': 93, '아': 94, '사람': 95, '여섯': 96, '에': 97, '자루': 98, '네': 99, '보': 100, '시': 101, '아홉': 102, '씨': 103, '다루': 104, '지우': 105, '첫': 106, '끄': 107, '레프': 108, '따로': 109, '은': 110, '그래도': 111, '사': 112, '저': 113, '필요': 114, '달': 115, '시키': 116, 'f': 117, '십': 118, '다섯': 119, '10분': 120, '만': 121, '트리': 122, '림프': 123, '다음': 124, '고대': 125, '닫': 126, '을': 127, '스크린': 128, '모니터': 129, '건': 130, '기': 131, '뮤직': 132, '소리': 133, '작동': 134, '데이터 시각화': 135, '후디': 136, '푸': 137, '칠': 138, '치': 139, '석': 140, '마': 141, '인': 142, '듣': 143, '좀': 144, '수': 145, '일반': 146, '투자': 147, '산': 148, '뿌띠와': 149, '소비자': 150, '피자': 151, '지': 152, 't': 153, '오버': 154, '범띠': 155, '레': 156, '틀': 157, '푸대': 158, '산본': 159, '아바': 160, '권': 161, '삼천': 162, '창원시': 163, '각자': 164, '일본': 165, '내': 166, '세번': 167, '들리': 168, '세': 169, '불': 170, '없애': 171, '다른': 172, '삼성': 173, '때리': 174, '데': 175, '이범': 176, '해제': 177, '없': 178, '의': 179, '투데이': 180, '입원': 181, '또': 182, '봉': 183, '천': 184, '자르': 185, '지갑': 186, '이차': 187, '일찍': 188, '업자': 189, '오번': 190, '오반': 191, 'of': 192, '에이': 193, '다르': 194, '집': 195, '업': 196, '000': 197, '그래픽': 198, '크': 199, '값': 200, '의정부': 201, '크래프': 202, '지시': 203, '테이프': 204, '이천': 205, '사본': 206, '데이트': 207, '정부': 208, '-1': 209, '직업 정보': 210, '사범': 211, '제거': 212, '그리고': 213, '자두': 214, '목소리': 215, '크래프트': 216, '중지': 217, '취급자': 218, '푹': 219, '그래': 220, '폰': 221, '서': 222, '마이크': 223, '게스트': 224, '꼭': 225, '자유': 226, '동작': 227, '그래퍼': 228, '크레프': 229, '룸': 230, '램프': 231, '베이': 232, '나루': 233, '도': 234, '티': 235, '전구': 236, '자리': 237, '베스트': 238, '나': 239, '수지': 240, '다리': 241, '애프': 242, '코디': 243, '퀘스트': 244, '이전': 245, '바로': 246, '페이지': 247, '추리': 248, '사용': 249, '개': 250, '요건': 251, '리크': 252, '아이크': 253, '이건': 254, '거': 255, '비': 256, '소가': 257, 'g': 258, 'bgm': 259, '포인트': 260, '풀': 261, '전': 262, '청소': 263, '삭제': 264, '염소': 265, '그라운드': 266, '주소': 267, '테스트': 268, 'bgn': 269, '수거': 270, '속': 271, 'cd': 272, '한': 273, '회비': 274, '강': 275, '3000': 276, '금': 277, 'ppt': 278, '3차워': 279, 'udd': 280, '레이': 281, '유대': 282, '테레비': 283, 'la': 284, '3100': 285, '삼촌': 286, '준서': 287, '싫': 288, '엘': 289, '레디': 290, '프레디': 291, '이제': 292, '빨리': 293, '시리': 294, '형': 295, '셀': 296, '없어': 297, 'lady': 298, '휴': 299, '철권': 300, '밸리': 301, '트레이드': 302, '레이저': 303, '페르디': 304, '촌': 305, 'lad': 306, '베르디': 307, '것': 308, '0': 309, '재희': 310, '오본': 311, '대대': 312, 'led': 313, '오부': 314, '쓰레기': 315, '동해': 316, '움직이': 317, '삼척': 318, '상권': 319, '드리': 320, '드레드': 321, '3분': 322, '앨범': 323, '밤': 324, '그리': 325, '천원': 326, '이타': 327, 'rd': 328, '라운드': 329, '카': 330, '드릴': 331, 'udt': 332, '그레이드': 333, '새': 334, 'st': 335, '토지': 336, '불필요': 337, '차': 338, '영어': 339, '둘': 340, '쥬디': 341, '사라지': 342, '휴지': 343, '구비': 344, '큐리': 345, '세대': 346, '이창훈': 347, '이탄': 348, '이창욱': 349, '푸지': 350, '부비': 351, '쁘띠': 352, '깔': 353, '수리': 354, '파일': 355, '슈리': 356, '목': 357, '타': 358, '이창원': 359, '2000': 360, '탄': 361, '부디': 362, '알': 363, '쓰': 364, '포인터': 365, '이창': 366, '옥': 367, '라이트': 368, '후지': 369, '술': 370, '병': 371, '많이': 372, '아이콘': 373, '아이돌': 374, '부대': 375, '초': 376, '와이파이': 377, '마이클': 378, '비번': 379, '요금': 380, '영화': 381, '호리': 382, '바이크': 383, '마이': 384, '아이쿠': 385, '식권': 386, '아이폰': 387, '아이': 388, '요번': 389, '오방': 390, '우방': 391, 'nd': 392, '고민': 393, '더': 394, '방': 395, '배경 음악': 396, '배경': 397, '지엠': 398, '가범': 399, '첨부': 400, '닫히': 401, 'th': 402, '아이즈': 403, '계시': 404, '바보': 405, '툴': 406, '모범': 407, '오븐': 408, '초범': 409, '우범': 410, '게': 411, '뜯': 412, '법무': 413, '본': 414, '급하': 415, '범퍼': 416, '개스': 417, '전부': 418, '밥': 419, '캐스트를': 420, '호프': 421, '오프': 422, '본부': 423, '부': 424, '하남': 425, '관보': 426, '점보': 427, '쿠팡': 428, '규범': 429, '쿠폰': 430, '경': 431, '영': 432, '구분': 433, '장': 434, '굿': 435, '그것': 436, '구관': 437, '트위터': 438, '오인': 439, '홍': 440, '지시봉': 441, '이시': 442, '고': 443, '잉': 444, '인덕': 445, '국방': 446, '이정': 447, '살': 448, '제': 449, '백그라운드': 450, '비지앰': 451, '어': 452, '내리': 453, '허용': 454, '치우': 455, '짱': 456, '마음': 457, 'dc': 458, '사양': 459, '슬': 460, '슬랭': 461, '슬램': 462, '확인': 463, '가르치': 464, 'gc': 465, 'cc': 466, '띄': 467, '어떻': 468, '되': 469, '비루': 470, '끌': 471, '끊': 472, '레이저 포인터': 473, '포': 474, '블랙': 475, '음소': 476, '허허': 477, '허허허': 478, '허': 479, '만들': 480, '떨어지': 481, '애경': 482, '애정': 483, '크라운': 484, '드': 485, '태경': 486, 'dm': 487, 'gm': 488, 'gmp': 489, 'dmp': 490, '이지앰': 491, '지엔': 492, '이지애': 493, 'dgn': 494, '이지현': 495, '경음악': 496, '브금': 497, '죽음': 498, '이지영': 499, '지안': 500, '유경': 501, '안녕': 502, '김경': 503, '미': 504, '금영': 505, '은아': 506, '문경': 507, '수영': 508, '임지현': 509, '이지연': 510, '김지현': 511, '김지연': 512, '이주연': 513, '이지함': 514, '주': 515, '양': 516, '이주형': 517, '이주향': 518, '이지혜': 519, '이주': 520, '히터': 521, '탁': 522, '인격': 523, '윈터': 524, '무인': 525, '타워': 526, '홈': 527, '소민': 528, '홀': 529, '조민서': 530, '민': 531, '레인저': 532, '프린터': 533, '혼다': 534, '코': 535, '인트': 536, '메이저': 537, '메이': 538, '15': 539, '응': 540, '인턴': 541, '지지': 542, '이지': 543, 'gg': 544, '비봉': 545, '이봉': 546, '엔터': 547, '오윤': 548, '공': 549, '인도': 550, '얼': 551, '천장': 552, '걷': 553, '루': 554, '가루': 555, '앙': 556, '홈페이지': 557, '소개': 558, '조용히': 559, '금지': 560, '째 코': 561, '각': 562, '다리 시': 563, '으로': 564, '바': 565, '로건': 566, '덜': 567, '정': 568, '전장': 569, '안장': 570, '권장': 571, '원장': 572, '건장': 573, '원당': 574, '광장': 575, '반장': 576, '헌장': 577, '현장': 578, '비전': 579, '전과': 580, '알람': 581, '아음': 582, '건우': 583, '걸': 584, '담': 585, '감': 586, '잠': 587, '창': 588, '음정': 589, '곡': 590, '엇': 591, '아무': 592, '암': 593, '강하면': 594, '딴': 595, '후지 시': 596, '철권 3': 597, '원 데이': 598, '간': 599, '리자': 600, '철권 2': 601, '두번째 달': 602, '자리 구': 603, '더 블랙': 604, '카 2': 605, '후지 산': 606, '에 산': 607, '다리 구': 608, '레이드 2': 609, '산타': 610, '루 산': 611, '고대 영어': 612, '이디 산': 613, '100': 614, '보 주': 615, '미리': 616}\n",
            "1/1 [==============================] - 1s 1s/step\n",
            "[[8.1873663e-15 5.6399323e-14 3.8470144e-15 1.0128766e-11 1.0046452e-08\n",
            "  2.9405981e-15 5.5681904e-10 5.7877270e-10 5.1348493e-16 7.1658239e-13\n",
            "  8.1774830e-12 1.0496436e-14 5.0221857e-14 8.5487961e-10 2.1842509e-07\n",
            "  1.1009029e-14 1.0307457e-08 1.4646749e-08 3.0468081e-13 4.4321352e-12\n",
            "  9.9997306e-01 1.7528368e-05 8.5508527e-06 6.7613591e-08 7.8798061e-09\n",
            "  5.2014587e-07 1.1788054e-10 1.2200624e-11 5.7038652e-11 1.5355385e-10]]\n",
            "<class 'numpy.ndarray'>\n",
            "0.99997306\n",
            "20\n"
          ]
        }
      ]
    },
    {
      "cell_type": "code",
      "source": [
        "#ContestData_word_index11.txt\n",
        "#/content/Contest_Cnn_Lstm_model11_CnnLstm.h5"
      ],
      "metadata": {
        "colab": {
          "base_uri": "https://localhost:8080/"
        },
        "id": "-2XqFzaObHD7",
        "outputId": "e704a8a2-ca08-4f00-86fb-269e797b2689"
      },
      "execution_count": null,
      "outputs": [
        {
          "output_type": "execute_result",
          "data": {
            "text/plain": [
              "0.0545004047"
            ]
          },
          "metadata": {},
          "execution_count": 62
        }
      ]
    }
  ],
  "metadata": {
    "colab": {
      "provenance": []
    },
    "kernelspec": {
      "display_name": "Python 3",
      "name": "python3"
    },
    "language_info": {
      "name": "python"
    }
  },
  "nbformat": 4,
  "nbformat_minor": 0
}